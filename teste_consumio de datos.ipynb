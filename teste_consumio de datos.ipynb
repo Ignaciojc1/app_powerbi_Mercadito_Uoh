{
 "cells": [
  {
   "cell_type": "code",
   "execution_count": 12,
   "id": "4d051972",
   "metadata": {},
   "outputs": [
    {
     "name": "stdout",
     "output_type": "stream",
     "text": [
      "Endpoints disponibles:\n",
      " - categories: http://uoh-market-project-production-e906.up.railway.app/api/products/categories/\n",
      " - products: http://uoh-market-project-production-e906.up.railway.app/api/products/products/\n",
      " - favorites: http://uoh-market-project-production-e906.up.railway.app/api/products/favorites/\n",
      " - conversations: http://uoh-market-project-production-e906.up.railway.app/api/conversations/\n",
      " - messages: http://uoh-market-project-production-e906.up.railway.app/api/messages/\n",
      "\n",
      "Mensajes:\n"
     ]
    },
    {
     "ename": "TypeError",
     "evalue": "string indices must be integers",
     "output_type": "error",
     "traceback": [
      "\u001b[1;31m---------------------------------------------------------------------------\u001b[0m",
      "\u001b[1;31mTypeError\u001b[0m                                 Traceback (most recent call last)",
      "Cell \u001b[1;32mIn[12], line 31\u001b[0m\n\u001b[0;32m     29\u001b[0m \u001b[38;5;28mprint\u001b[39m(\u001b[38;5;124m\"\u001b[39m\u001b[38;5;130;01m\\n\u001b[39;00m\u001b[38;5;124mMensajes:\u001b[39m\u001b[38;5;124m\"\u001b[39m)\n\u001b[0;32m     30\u001b[0m \u001b[38;5;28;01mfor\u001b[39;00m msg \u001b[38;5;129;01min\u001b[39;00m messages:\n\u001b[1;32m---> 31\u001b[0m     \u001b[38;5;28mprint\u001b[39m(\u001b[38;5;124mf\u001b[39m\u001b[38;5;124m\"\u001b[39m\u001b[38;5;132;01m{\u001b[39;00m\u001b[43mmsg\u001b[49m\u001b[43m[\u001b[49m\u001b[38;5;124;43m'\u001b[39;49m\u001b[38;5;124;43mid\u001b[39;49m\u001b[38;5;124;43m'\u001b[39;49m\u001b[43m]\u001b[49m\u001b[38;5;132;01m}\u001b[39;00m\u001b[38;5;124m | \u001b[39m\u001b[38;5;132;01m{\u001b[39;00mmsg[\u001b[38;5;124m'\u001b[39m\u001b[38;5;124msender\u001b[39m\u001b[38;5;124m'\u001b[39m]\u001b[38;5;132;01m}\u001b[39;00m\u001b[38;5;124m | \u001b[39m\u001b[38;5;132;01m{\u001b[39;00mmsg[\u001b[38;5;124m'\u001b[39m\u001b[38;5;124mcreated_at\u001b[39m\u001b[38;5;124m'\u001b[39m]\u001b[38;5;132;01m}\u001b[39;00m\u001b[38;5;124m | leído? \u001b[39m\u001b[38;5;132;01m{\u001b[39;00mmsg[\u001b[38;5;124m'\u001b[39m\u001b[38;5;124mis_read\u001b[39m\u001b[38;5;124m'\u001b[39m]\u001b[38;5;132;01m}\u001b[39;00m\u001b[38;5;124m\"\u001b[39m)\n",
      "\u001b[1;31mTypeError\u001b[0m: string indices must be integers"
     ]
    }
   ],
   "source": [
    "import requests\n",
    "\n",
    "# 1. Define la URL base de tu API\n",
    "BASE_URL = 'http://uoh-market-project-production-e906.up.railway.app/api/'\n",
    "\n",
    "# 2. (Opcional) Si usas autenticación con token:\n",
    "#    Obtén tu token previamente (p.ej. vía login) y ponlo aquí.\n",
    "HEADERS = {\n",
    "    'Authorization': '23f0298025414a3557e62019aa858be618d5951a',\n",
    "    'Accept': 'application/json',\n",
    "}\n",
    "\n",
    "# 3. Consulta el root para descubrir dinámicamente los endpoints\n",
    "resp_root = requests.get(BASE_URL, headers=HEADERS)\n",
    "resp_root.raise_for_status()\n",
    "endpoints = resp_root.json()\n",
    "\n",
    "print(\"Endpoints disponibles:\")\n",
    "for name, url in endpoints.items():\n",
    "    print(f\" - {name}: {url}\")\n",
    "\n",
    "# 4. Llama al endpoint de mensajes\n",
    "messages_url = 'https://uoh-market-project-production-e906.up.railway.app/api/products/'\n",
    "resp_msgs = requests.get(messages_url, headers=HEADERS)\n",
    "resp_msgs.raise_for_status()\n",
    "messages = resp_msgs.json()\n",
    "\n",
    "# 5. Procesa los mensajes (aquí simplemente los mostramos)\n",
    "print(\"\\nMensajes:\")\n",
    "for msg in messages:\n",
    "    print(f\"{msg['id']} | {msg['sender']} | {msg['created_at']} | leído? {msg['is_read']}\")\n"
   ]
  },
  {
   "cell_type": "code",
   "execution_count": 13,
   "id": "8f34bea1",
   "metadata": {},
   "outputs": [
    {
     "name": "stdout",
     "output_type": "stream",
     "text": [
      "\n",
      "Mensajes:\n"
     ]
    }
   ],
   "source": [
    "import requests\n",
    "\n",
    "BASE_URL = 'https://uoh-market-project-production-e906.up.railway.app/api/'\n",
    "TOKEN    = '23f0298025414a3557e62019aa858be618d5951a'\n",
    "HEADERS  = {'Authorization': f'Token {TOKEN}', 'Accept': 'application/json'}\n",
    "\n",
    "# 1) Llamas al root\n",
    "resp_root = requests.get(BASE_URL, headers=HEADERS)\n",
    "resp_root.raise_for_status()\n",
    "endpoints = resp_root.json()\n",
    "\n",
    "# 2) Traes los mensajes (paginados)\n",
    "resp_msgs = requests.get(endpoints['messages'], headers=HEADERS)\n",
    "resp_msgs.raise_for_status()\n",
    "data = resp_msgs.json()\n",
    "\n",
    "# 3) Extraes la lista real\n",
    "messages = data.get('results', data)   # si no hay 'results', asume que ya es una lista\n",
    "\n",
    "# 4) Iteras correctamente\n",
    "print(\"\\nMensajes:\")\n",
    "for msg in messages:\n",
    "    print(f\"{msg['id']} | {msg.get('sender')} | {msg.get('created_at')} | leído? {msg.get('is_read')}\")\n"
   ]
  },
  {
   "cell_type": "code",
   "execution_count": 21,
   "id": "fc22d03f",
   "metadata": {},
   "outputs": [
    {
     "name": "stdout",
     "output_type": "stream",
     "text": [
      "{\"count\":1,\"next\":null,\"previous\":null,\"results\":[{\"id\":5,\"title\":\"Audífonos OEM\",\"description\":\"Audífonos AirPods Pro 2 gen\",\"price\":\"12990.00\",\"original_price\":\"19990.00\",\"category\":13,\"category_name\":\"Varios\",\"seller\":{\"id\":1,\"username\":\"alex.alvarado\",\"email\":\"alex.alvarado@pregrado.uoh.cl\",\"is_verified_seller\":true,\"profile_picture\":\"http://uoh-market-project-production-e906.up.railway.app/media/profiles/75Z1.gif\",\"profile\":{\"average_rating\":5.0,\"total_ratings\":2}},\"seller_username\":\"alex.alvarado\",\"condition\":\"new\",\"created_at\":\"2025-06-23T11:07:17.368521-04:00\",\"updated_at\":\"2025-06-23T11:11:18.438067-04:00\",\"is_available\":false,\"views_count\":0,\"images\":[{\"id\":7,\"image\":\"http://uoh-market-project-production-e906.up.railway.app/media/product_images/IMG_4417_W7S1p3o.jpeg\",\"is_primary\":true}],\"is_favorite\":false,\"status\":\"available\",\"review_scheduled_at\":\"2025-06-23T11:07:47.375914-04:00\",\"manually_unavailable\":false}]}\n"
     ]
    }
   ],
   "source": [
    "import requests\n",
    "\n",
    "# 1. URL del endpoint\n",
    "PRODUCTS_URL = 'https://uoh-market-project-production-e906.up.railway.app/api/products/'\n",
    "\n",
    "# 2. (Opcional) Si tu API está protegida con TokenAuthentication:\n",
    "TOKEN = '23f0298025414a3557e62019aa858be618d5951a'\n",
    "HEADERS = {\n",
    "    'Authorization': f'Token {TOKEN}',\n",
    "    'Accept': 'application/json',\n",
    "}\n",
    "\n",
    "# 3. Haces la petición\n",
    "resp = requests.get(PRODUCTS_URL, headers=HEADERS)\n",
    "resp.raise_for_status()\n",
    "\n",
    "# 4. Imprimes el JSON crudo\n",
    "print(resp.text)\n"
   ]
  },
  {
   "cell_type": "markdown",
   "id": "172d9c9f",
   "metadata": {},
   "source": [
    "# Productos"
   ]
  },
  {
   "cell_type": "code",
   "execution_count": 41,
   "id": "68a9a206",
   "metadata": {},
   "outputs": [
    {
     "data": {
      "text/html": [
       "<div>\n",
       "<style scoped>\n",
       "    .dataframe tbody tr th:only-of-type {\n",
       "        vertical-align: middle;\n",
       "    }\n",
       "\n",
       "    .dataframe tbody tr th {\n",
       "        vertical-align: top;\n",
       "    }\n",
       "\n",
       "    .dataframe thead th {\n",
       "        text-align: right;\n",
       "    }\n",
       "</style>\n",
       "<table border=\"1\" class=\"dataframe\">\n",
       "  <thead>\n",
       "    <tr style=\"text-align: right;\">\n",
       "      <th></th>\n",
       "      <th>id</th>\n",
       "      <th>title</th>\n",
       "      <th>description</th>\n",
       "      <th>price</th>\n",
       "      <th>original_price</th>\n",
       "      <th>category</th>\n",
       "      <th>category_name</th>\n",
       "      <th>seller_username</th>\n",
       "      <th>condition</th>\n",
       "      <th>created_at</th>\n",
       "      <th>...</th>\n",
       "      <th>is_favorite</th>\n",
       "      <th>status</th>\n",
       "      <th>review_scheduled_at</th>\n",
       "      <th>manually_unavailable</th>\n",
       "      <th>seller_id</th>\n",
       "      <th>seller_email</th>\n",
       "      <th>seller_is_verified_seller</th>\n",
       "      <th>seller_profile_picture</th>\n",
       "      <th>seller_profile_average_rating</th>\n",
       "      <th>seller_profile_total_ratings</th>\n",
       "    </tr>\n",
       "  </thead>\n",
       "  <tbody>\n",
       "    <tr>\n",
       "      <th>0</th>\n",
       "      <td>5</td>\n",
       "      <td>Audífonos OEM</td>\n",
       "      <td>Audífonos AirPods Pro 2 gen</td>\n",
       "      <td>12990.00</td>\n",
       "      <td>19990.00</td>\n",
       "      <td>13</td>\n",
       "      <td>Varios</td>\n",
       "      <td>alex.alvarado</td>\n",
       "      <td>new</td>\n",
       "      <td>2025-06-23T11:07:17.368521-04:00</td>\n",
       "      <td>...</td>\n",
       "      <td>False</td>\n",
       "      <td>available</td>\n",
       "      <td>2025-06-23T11:07:47.375914-04:00</td>\n",
       "      <td>False</td>\n",
       "      <td>1</td>\n",
       "      <td>alex.alvarado@pregrado.uoh.cl</td>\n",
       "      <td>True</td>\n",
       "      <td>http://uoh-market-project-production-e906.up.r...</td>\n",
       "      <td>5.0</td>\n",
       "      <td>2</td>\n",
       "    </tr>\n",
       "  </tbody>\n",
       "</table>\n",
       "<p>1 rows × 24 columns</p>\n",
       "</div>"
      ],
      "text/plain": [
       "   id          title                  description     price original_price  \\\n",
       "0   5  Audífonos OEM  Audífonos AirPods Pro 2 gen  12990.00       19990.00   \n",
       "\n",
       "   category category_name seller_username condition  \\\n",
       "0        13        Varios   alex.alvarado       new   \n",
       "\n",
       "                         created_at  ... is_favorite     status  \\\n",
       "0  2025-06-23T11:07:17.368521-04:00  ...       False  available   \n",
       "\n",
       "                review_scheduled_at manually_unavailable  seller_id  \\\n",
       "0  2025-06-23T11:07:47.375914-04:00                False          1   \n",
       "\n",
       "                    seller_email seller_is_verified_seller  \\\n",
       "0  alex.alvarado@pregrado.uoh.cl                      True   \n",
       "\n",
       "                              seller_profile_picture  \\\n",
       "0  http://uoh-market-project-production-e906.up.r...   \n",
       "\n",
       "   seller_profile_average_rating seller_profile_total_ratings  \n",
       "0                            5.0                            2  \n",
       "\n",
       "[1 rows x 24 columns]"
      ]
     },
     "execution_count": 41,
     "metadata": {},
     "output_type": "execute_result"
    }
   ],
   "source": [
    "import requests\n",
    "import pandas as pd\n",
    "\n",
    "# 1. URL del endpoint\n",
    "PRODUCTS_URL = 'https://uoh-market-project-production-e906.up.railway.app/api/products/'\n",
    "\n",
    "# 2. Token de autenticación\n",
    "TOKEN = '23f0298025414a3557e62019aa858be618d5951a'\n",
    "HEADERS = {\n",
    "    'Authorization': f'Token {TOKEN}',\n",
    "    'Accept': 'application/json',\n",
    "}\n",
    "\n",
    "# 3. Petición GET al endpoint\n",
    "resp = requests.get(PRODUCTS_URL, headers=HEADERS)\n",
    "resp.raise_for_status()\n",
    "\n",
    "# 4. Parseo del JSON y normalización\n",
    "data = resp.json()\n",
    "results = data.get('results', data)\n",
    "df = pd.json_normalize(results, sep='_')\n",
    "\n",
    "# 5. Mostrar el DataFrame (en tu entorno local)\n",
    "df\n"
   ]
  },
  {
   "cell_type": "code",
   "execution_count": 38,
   "id": "ba4d3e8b",
   "metadata": {},
   "outputs": [
    {
     "name": "stdout",
     "output_type": "stream",
     "text": [
      "Empty DataFrame\n",
      "Columns: []\n",
      "Index: []\n"
     ]
    }
   ],
   "source": [
    "import requests\n",
    "import pandas as pd\n",
    "\n",
    "# 1. URL del endpoint\n",
    "PRODUCTS_URL = 'https://uoh-market-project-production-e906.up.railway.app/api/messages/'\n",
    "\n",
    "# 2. Token de autenticación\n",
    "TOKEN = '23f0298025414a3557e62019aa858be618d5951a'\n",
    "HEADERS = {\n",
    "    'Authorization': f'Token {TOKEN}',\n",
    "    'Accept': 'application/json',\n",
    "}\n",
    "\n",
    "# 3. Petición GET al endpoint\n",
    "resp = requests.get(PRODUCTS_URL, headers=HEADERS)\n",
    "resp.raise_for_status()\n",
    "\n",
    "# 4. Parseo del JSON y normalización\n",
    "data = resp.json()\n",
    "results = data.get('results', data)\n",
    "df = pd.json_normalize(results, sep='_')\n",
    "\n",
    "# 5. Mostrar el DataFrame (en tu entorno local)\n",
    "print(df)"
   ]
  },
  {
   "cell_type": "code",
   "execution_count": 39,
   "id": "87e667d3",
   "metadata": {},
   "outputs": [
    {
     "ename": "HTTPError",
     "evalue": "404 Client Error: Not Found for url: https://uoh-market-project-production-e906.up.railway.app/api/schema/",
     "output_type": "error",
     "traceback": [
      "\u001b[1;31m---------------------------------------------------------------------------\u001b[0m",
      "\u001b[1;31mHTTPError\u001b[0m                                 Traceback (most recent call last)",
      "Cell \u001b[1;32mIn[39], line 11\u001b[0m\n\u001b[0;32m      9\u001b[0m url \u001b[38;5;241m=\u001b[39m BASE \u001b[38;5;241m+\u001b[39m \u001b[38;5;124m'\u001b[39m\u001b[38;5;124mapi/schema/\u001b[39m\u001b[38;5;124m'\u001b[39m\n\u001b[0;32m     10\u001b[0m resp \u001b[38;5;241m=\u001b[39m requests\u001b[38;5;241m.\u001b[39mget(url, headers\u001b[38;5;241m=\u001b[39mHEADERS)\n\u001b[1;32m---> 11\u001b[0m \u001b[43mresp\u001b[49m\u001b[38;5;241;43m.\u001b[39;49m\u001b[43mraise_for_status\u001b[49m\u001b[43m(\u001b[49m\u001b[43m)\u001b[49m\n\u001b[0;32m     12\u001b[0m schema \u001b[38;5;241m=\u001b[39m resp\u001b[38;5;241m.\u001b[39mjson()\n\u001b[0;32m     14\u001b[0m \u001b[38;5;66;03m# 2) Las rutas están en schema['paths']\u001b[39;00m\n",
      "File \u001b[1;32mc:\\Users\\ignac\\AppData\\Local\\Programs\\Python\\Python310\\lib\\site-packages\\requests\\models.py:1024\u001b[0m, in \u001b[0;36mResponse.raise_for_status\u001b[1;34m(self)\u001b[0m\n\u001b[0;32m   1019\u001b[0m     http_error_msg \u001b[38;5;241m=\u001b[39m (\n\u001b[0;32m   1020\u001b[0m         \u001b[38;5;124mf\u001b[39m\u001b[38;5;124m\"\u001b[39m\u001b[38;5;132;01m{\u001b[39;00m\u001b[38;5;28mself\u001b[39m\u001b[38;5;241m.\u001b[39mstatus_code\u001b[38;5;132;01m}\u001b[39;00m\u001b[38;5;124m Server Error: \u001b[39m\u001b[38;5;132;01m{\u001b[39;00mreason\u001b[38;5;132;01m}\u001b[39;00m\u001b[38;5;124m for url: \u001b[39m\u001b[38;5;132;01m{\u001b[39;00m\u001b[38;5;28mself\u001b[39m\u001b[38;5;241m.\u001b[39murl\u001b[38;5;132;01m}\u001b[39;00m\u001b[38;5;124m\"\u001b[39m\n\u001b[0;32m   1021\u001b[0m     )\n\u001b[0;32m   1023\u001b[0m \u001b[38;5;28;01mif\u001b[39;00m http_error_msg:\n\u001b[1;32m-> 1024\u001b[0m     \u001b[38;5;28;01mraise\u001b[39;00m HTTPError(http_error_msg, response\u001b[38;5;241m=\u001b[39m\u001b[38;5;28mself\u001b[39m)\n",
      "\u001b[1;31mHTTPError\u001b[0m: 404 Client Error: Not Found for url: https://uoh-market-project-production-e906.up.railway.app/api/schema/"
     ]
    }
   ],
   "source": [
    "import requests\n",
    "import json\n",
    "\n",
    "BASE = 'https://uoh-market-project-production-e906.up.railway.app/'\n",
    "TOKEN = '23f0298025414a3557e62019aa858be618d5951a'\n",
    "HEADERS = {'Authorization': f'Token {TOKEN}', 'Accept': 'application/json'}\n",
    "\n",
    "# 1) Descarga el JSON del esquema\n",
    "url = BASE + 'api/schema/'\n",
    "resp = requests.get(url, headers=HEADERS)\n",
    "resp.raise_for_status()\n",
    "schema = resp.json()\n",
    "\n",
    "# 2) Las rutas están en schema['paths']\n",
    "for path, methods in schema.get('paths', {}).items():\n",
    "    print(path, \"→\", list(methods.keys()))\n"
   ]
  }
 ],
 "metadata": {
  "kernelspec": {
   "display_name": "Python 3",
   "language": "python",
   "name": "python3"
  },
  "language_info": {
   "codemirror_mode": {
    "name": "ipython",
    "version": 3
   },
   "file_extension": ".py",
   "mimetype": "text/x-python",
   "name": "python",
   "nbconvert_exporter": "python",
   "pygments_lexer": "ipython3",
   "version": "3.13.3"
  }
 },
 "nbformat": 4,
 "nbformat_minor": 5
}
